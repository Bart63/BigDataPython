{
 "cells": [
  {
   "cell_type": "code",
   "execution_count": 38,
   "id": "c027054a",
   "metadata": {},
   "outputs": [],
   "source": [
    "import pandas as pd\n",
    "from ipywidgets import interactive"
   ]
  },
  {
   "cell_type": "code",
   "execution_count": 3,
   "id": "066fce17",
   "metadata": {},
   "outputs": [],
   "source": [
    "athlete_events_fname = 'athlete_events.csv'\n",
    "athlete_df = pd.read_csv(athlete_events_fname, index_col=0)"
   ]
  },
  {
   "cell_type": "markdown",
   "id": "d1c4009a",
   "metadata": {},
   "source": [
    "# Wykres nr 1"
   ]
  },
  {
   "cell_type": "code",
   "execution_count": 46,
   "id": "1efd8ef2",
   "metadata": {
    "scrolled": true
   },
   "outputs": [
    {
     "data": {
      "text/html": [
       "<div>\n",
       "<style scoped>\n",
       "    .dataframe tbody tr th:only-of-type {\n",
       "        vertical-align: middle;\n",
       "    }\n",
       "\n",
       "    .dataframe tbody tr th {\n",
       "        vertical-align: top;\n",
       "    }\n",
       "\n",
       "    .dataframe thead th {\n",
       "        text-align: right;\n",
       "    }\n",
       "</style>\n",
       "<table border=\"1\" class=\"dataframe\">\n",
       "  <thead>\n",
       "    <tr style=\"text-align: right;\">\n",
       "      <th></th>\n",
       "      <th>AthletesCountSummer</th>\n",
       "      <th>AthletesCountWinter</th>\n",
       "    </tr>\n",
       "    <tr>\n",
       "      <th>Year</th>\n",
       "      <th></th>\n",
       "      <th></th>\n",
       "    </tr>\n",
       "  </thead>\n",
       "  <tbody>\n",
       "    <tr>\n",
       "      <th>1896</th>\n",
       "      <td>380.0</td>\n",
       "      <td>0.0</td>\n",
       "    </tr>\n",
       "    <tr>\n",
       "      <th>1900</th>\n",
       "      <td>1936.0</td>\n",
       "      <td>0.0</td>\n",
       "    </tr>\n",
       "    <tr>\n",
       "      <th>1904</th>\n",
       "      <td>1301.0</td>\n",
       "      <td>0.0</td>\n",
       "    </tr>\n",
       "    <tr>\n",
       "      <th>1906</th>\n",
       "      <td>1733.0</td>\n",
       "      <td>0.0</td>\n",
       "    </tr>\n",
       "    <tr>\n",
       "      <th>1908</th>\n",
       "      <td>3101.0</td>\n",
       "      <td>0.0</td>\n",
       "    </tr>\n",
       "    <tr>\n",
       "      <th>1912</th>\n",
       "      <td>4040.0</td>\n",
       "      <td>0.0</td>\n",
       "    </tr>\n",
       "    <tr>\n",
       "      <th>1920</th>\n",
       "      <td>4292.0</td>\n",
       "      <td>0.0</td>\n",
       "    </tr>\n",
       "    <tr>\n",
       "      <th>1924</th>\n",
       "      <td>5233.0</td>\n",
       "      <td>460.0</td>\n",
       "    </tr>\n",
       "    <tr>\n",
       "      <th>1928</th>\n",
       "      <td>4992.0</td>\n",
       "      <td>582.0</td>\n",
       "    </tr>\n",
       "    <tr>\n",
       "      <th>1932</th>\n",
       "      <td>2969.0</td>\n",
       "      <td>352.0</td>\n",
       "    </tr>\n",
       "    <tr>\n",
       "      <th>1936</th>\n",
       "      <td>6506.0</td>\n",
       "      <td>895.0</td>\n",
       "    </tr>\n",
       "    <tr>\n",
       "      <th>1948</th>\n",
       "      <td>6405.0</td>\n",
       "      <td>1075.0</td>\n",
       "    </tr>\n",
       "    <tr>\n",
       "      <th>1952</th>\n",
       "      <td>8270.0</td>\n",
       "      <td>1088.0</td>\n",
       "    </tr>\n",
       "    <tr>\n",
       "      <th>1956</th>\n",
       "      <td>5127.0</td>\n",
       "      <td>1307.0</td>\n",
       "    </tr>\n",
       "    <tr>\n",
       "      <th>1960</th>\n",
       "      <td>8119.0</td>\n",
       "      <td>1116.0</td>\n",
       "    </tr>\n",
       "    <tr>\n",
       "      <th>1964</th>\n",
       "      <td>7702.0</td>\n",
       "      <td>1778.0</td>\n",
       "    </tr>\n",
       "    <tr>\n",
       "      <th>1968</th>\n",
       "      <td>8588.0</td>\n",
       "      <td>1891.0</td>\n",
       "    </tr>\n",
       "    <tr>\n",
       "      <th>1972</th>\n",
       "      <td>10304.0</td>\n",
       "      <td>1655.0</td>\n",
       "    </tr>\n",
       "    <tr>\n",
       "      <th>1976</th>\n",
       "      <td>8641.0</td>\n",
       "      <td>1861.0</td>\n",
       "    </tr>\n",
       "    <tr>\n",
       "      <th>1980</th>\n",
       "      <td>7191.0</td>\n",
       "      <td>1746.0</td>\n",
       "    </tr>\n",
       "    <tr>\n",
       "      <th>1984</th>\n",
       "      <td>9454.0</td>\n",
       "      <td>2134.0</td>\n",
       "    </tr>\n",
       "    <tr>\n",
       "      <th>1988</th>\n",
       "      <td>12037.0</td>\n",
       "      <td>2639.0</td>\n",
       "    </tr>\n",
       "    <tr>\n",
       "      <th>1992</th>\n",
       "      <td>12977.0</td>\n",
       "      <td>3436.0</td>\n",
       "    </tr>\n",
       "    <tr>\n",
       "      <th>1994</th>\n",
       "      <td>0.0</td>\n",
       "      <td>3160.0</td>\n",
       "    </tr>\n",
       "    <tr>\n",
       "      <th>1996</th>\n",
       "      <td>13780.0</td>\n",
       "      <td>0.0</td>\n",
       "    </tr>\n",
       "    <tr>\n",
       "      <th>1998</th>\n",
       "      <td>0.0</td>\n",
       "      <td>3605.0</td>\n",
       "    </tr>\n",
       "    <tr>\n",
       "      <th>2000</th>\n",
       "      <td>13821.0</td>\n",
       "      <td>0.0</td>\n",
       "    </tr>\n",
       "    <tr>\n",
       "      <th>2002</th>\n",
       "      <td>0.0</td>\n",
       "      <td>4109.0</td>\n",
       "    </tr>\n",
       "    <tr>\n",
       "      <th>2004</th>\n",
       "      <td>13443.0</td>\n",
       "      <td>0.0</td>\n",
       "    </tr>\n",
       "    <tr>\n",
       "      <th>2006</th>\n",
       "      <td>0.0</td>\n",
       "      <td>4382.0</td>\n",
       "    </tr>\n",
       "    <tr>\n",
       "      <th>2008</th>\n",
       "      <td>13602.0</td>\n",
       "      <td>0.0</td>\n",
       "    </tr>\n",
       "    <tr>\n",
       "      <th>2010</th>\n",
       "      <td>0.0</td>\n",
       "      <td>4402.0</td>\n",
       "    </tr>\n",
       "    <tr>\n",
       "      <th>2012</th>\n",
       "      <td>12920.0</td>\n",
       "      <td>0.0</td>\n",
       "    </tr>\n",
       "    <tr>\n",
       "      <th>2014</th>\n",
       "      <td>0.0</td>\n",
       "      <td>4891.0</td>\n",
       "    </tr>\n",
       "    <tr>\n",
       "      <th>2016</th>\n",
       "      <td>13688.0</td>\n",
       "      <td>0.0</td>\n",
       "    </tr>\n",
       "  </tbody>\n",
       "</table>\n",
       "</div>"
      ],
      "text/plain": [
       "      AthletesCountSummer  AthletesCountWinter\n",
       "Year                                          \n",
       "1896                380.0                  0.0\n",
       "1900               1936.0                  0.0\n",
       "1904               1301.0                  0.0\n",
       "1906               1733.0                  0.0\n",
       "1908               3101.0                  0.0\n",
       "1912               4040.0                  0.0\n",
       "1920               4292.0                  0.0\n",
       "1924               5233.0                460.0\n",
       "1928               4992.0                582.0\n",
       "1932               2969.0                352.0\n",
       "1936               6506.0                895.0\n",
       "1948               6405.0               1075.0\n",
       "1952               8270.0               1088.0\n",
       "1956               5127.0               1307.0\n",
       "1960               8119.0               1116.0\n",
       "1964               7702.0               1778.0\n",
       "1968               8588.0               1891.0\n",
       "1972              10304.0               1655.0\n",
       "1976               8641.0               1861.0\n",
       "1980               7191.0               1746.0\n",
       "1984               9454.0               2134.0\n",
       "1988              12037.0               2639.0\n",
       "1992              12977.0               3436.0\n",
       "1994                  0.0               3160.0\n",
       "1996              13780.0                  0.0\n",
       "1998                  0.0               3605.0\n",
       "2000              13821.0                  0.0\n",
       "2002                  0.0               4109.0\n",
       "2004              13443.0                  0.0\n",
       "2006                  0.0               4382.0\n",
       "2008              13602.0                  0.0\n",
       "2010                  0.0               4402.0\n",
       "2012              12920.0                  0.0\n",
       "2014                  0.0               4891.0\n",
       "2016              13688.0                  0.0"
      ]
     },
     "execution_count": 46,
     "metadata": {},
     "output_type": "execute_result"
    }
   ],
   "source": [
    "athletes_by_season_df = pd.DataFrame(athlete_df.groupby(['Year', 'Season']).size(), columns=['AthletesCount'])\n",
    "athletes_by_season_reset_df = athletes_by_season_df.reset_index(level='Season')\n",
    "athletes_by_season_single_index_df = pd.DataFrame(\n",
    "    {\n",
    "        'AthletesCountSummer': athletes_by_season_reset_df[athletes_by_season_reset_df['Season']=='Summer']['AthletesCount'],\n",
    "        'AthletesCountWinter': athletes_by_season_reset_df[athletes_by_season_reset_df['Season']=='Winter']['AthletesCount']\n",
    "    },\n",
    ").fillna(value=0)\n",
    "athletes_by_season_single_index_df"
   ]
  },
  {
   "cell_type": "code",
   "execution_count": 44,
   "id": "fe1bb491",
   "metadata": {},
   "outputs": [],
   "source": [
    "def athletes_by_season_plot(width=12):\n",
    "    athletes_by_season_single_index_df.plot.bar(stacked=True, title='Liczba zawodników na olimpiadach', figsize=(width,4), fontsize=10)"
   ]
  },
  {
   "cell_type": "markdown",
   "id": "81946a29",
   "metadata": {},
   "source": [
    "Zmiana szerokości"
   ]
  },
  {
   "cell_type": "code",
   "execution_count": 45,
   "id": "37ff8e42",
   "metadata": {
    "scrolled": true
   },
   "outputs": [
    {
     "data": {
      "application/vnd.jupyter.widget-view+json": {
       "model_id": "f913d6228f244740ad9c913292c9e5e0",
       "version_major": 2,
       "version_minor": 0
      },
      "text/plain": [
       "interactive(children=(FloatSlider(value=12.0, description='width', max=30.0, min=6.0), Output()), _dom_classes…"
      ]
     },
     "metadata": {},
     "output_type": "display_data"
    }
   ],
   "source": [
    "interactive(athletes_by_season_plot, width=(6.0, 30.0))"
   ]
  },
  {
   "cell_type": "markdown",
   "id": "72b3c6e6",
   "metadata": {},
   "source": [
    "# Wykres nr 2"
   ]
  },
  {
   "cell_type": "code",
   "execution_count": 48,
   "id": "4a80cd87",
   "metadata": {
    "scrolled": true
   },
   "outputs": [
    {
     "data": {
      "text/html": [
       "<div>\n",
       "<style scoped>\n",
       "    .dataframe tbody tr th:only-of-type {\n",
       "        vertical-align: middle;\n",
       "    }\n",
       "\n",
       "    .dataframe tbody tr th {\n",
       "        vertical-align: top;\n",
       "    }\n",
       "\n",
       "    .dataframe thead th {\n",
       "        text-align: right;\n",
       "    }\n",
       "</style>\n",
       "<table border=\"1\" class=\"dataframe\">\n",
       "  <thead>\n",
       "    <tr style=\"text-align: right;\">\n",
       "      <th></th>\n",
       "      <th>AvgMales</th>\n",
       "      <th>AvgFemales</th>\n",
       "    </tr>\n",
       "    <tr>\n",
       "      <th>NOC</th>\n",
       "      <th></th>\n",
       "      <th></th>\n",
       "    </tr>\n",
       "  </thead>\n",
       "  <tbody>\n",
       "    <tr>\n",
       "      <th>AFG</th>\n",
       "      <td>4.172414</td>\n",
       "      <td>0.172414</td>\n",
       "    </tr>\n",
       "    <tr>\n",
       "      <th>AHO</th>\n",
       "      <td>2.137931</td>\n",
       "      <td>0.413793</td>\n",
       "    </tr>\n",
       "    <tr>\n",
       "      <th>ALB</th>\n",
       "      <td>1.310345</td>\n",
       "      <td>0.862069</td>\n",
       "    </tr>\n",
       "    <tr>\n",
       "      <th>ALG</th>\n",
       "      <td>15.482759</td>\n",
       "      <td>3.103448</td>\n",
       "    </tr>\n",
       "    <tr>\n",
       "      <th>AND</th>\n",
       "      <td>1.379310</td>\n",
       "      <td>0.448276</td>\n",
       "    </tr>\n",
       "    <tr>\n",
       "      <th>...</th>\n",
       "      <td>...</td>\n",
       "      <td>...</td>\n",
       "    </tr>\n",
       "    <tr>\n",
       "      <th>YEM</th>\n",
       "      <td>0.965517</td>\n",
       "      <td>0.137931</td>\n",
       "    </tr>\n",
       "    <tr>\n",
       "      <th>YMD</th>\n",
       "      <td>0.172414</td>\n",
       "      <td>0.000000</td>\n",
       "    </tr>\n",
       "    <tr>\n",
       "      <th>YUG</th>\n",
       "      <td>60.310345</td>\n",
       "      <td>10.241379</td>\n",
       "    </tr>\n",
       "    <tr>\n",
       "      <th>ZAM</th>\n",
       "      <td>5.655172</td>\n",
       "      <td>0.655172</td>\n",
       "    </tr>\n",
       "    <tr>\n",
       "      <th>ZIM</th>\n",
       "      <td>6.758621</td>\n",
       "      <td>3.896552</td>\n",
       "    </tr>\n",
       "  </tbody>\n",
       "</table>\n",
       "<p>230 rows × 2 columns</p>\n",
       "</div>"
      ],
      "text/plain": [
       "      AvgMales  AvgFemales\n",
       "NOC                       \n",
       "AFG   4.172414    0.172414\n",
       "AHO   2.137931    0.413793\n",
       "ALB   1.310345    0.862069\n",
       "ALG  15.482759    3.103448\n",
       "AND   1.379310    0.448276\n",
       "..         ...         ...\n",
       "YEM   0.965517    0.137931\n",
       "YMD   0.172414    0.000000\n",
       "YUG  60.310345   10.241379\n",
       "ZAM   5.655172    0.655172\n",
       "ZIM   6.758621    3.896552\n",
       "\n",
       "[230 rows x 2 columns]"
      ]
     },
     "execution_count": 48,
     "metadata": {},
     "output_type": "execute_result"
    }
   ],
   "source": [
    "# Wykres nr 1only_summer_games_df = athlete_df[athlete_df['Season'] == 'Summer']\n",
    "only_summer_games_df = athlete_df[athlete_df['Season'] == 'Summer']\n",
    "unique_games = only_summer_games_df['Games'].nunique()\n",
    "avg_sex_by_NOC = pd.DataFrame(\n",
    "    only_summer_games_df.groupby(['NOC', 'Sex']).size() / unique_games, \n",
    "    columns=['AvgAthletesPerGame']\n",
    ")\n",
    "avg_sex_by_NOC_reset_df = avg_sex_by_NOC.reset_index(level='Sex')\n",
    "avg_sex_by_NOC_single_index_df = pd.DataFrame(\n",
    "    {\n",
    "        'AvgMales': avg_sex_by_NOC_reset_df[avg_sex_by_NOC_reset_df['Sex']=='M']['AvgAthletesPerGame'],\n",
    "        'AvgFemales': avg_sex_by_NOC_reset_df[avg_sex_by_NOC_reset_df['Sex']=='F']['AvgAthletesPerGame']\n",
    "    },\n",
    ").fillna(value=0)\n",
    "avg_sex_by_NOC_single_index_df"
   ]
  },
  {
   "cell_type": "code",
   "execution_count": 50,
   "id": "4ff57c7a",
   "metadata": {},
   "outputs": [],
   "source": [
    "def avg_sex_by_NOC_plot(title):\n",
    "    avg_sex_by_NOC_single_index_df.plot.barh(stacked=True, title=title, figsize=(4,26), fontsize=5)"
   ]
  },
  {
   "cell_type": "code",
   "execution_count": 51,
   "id": "cdb58225",
   "metadata": {},
   "outputs": [
    {
     "data": {
      "application/vnd.jupyter.widget-view+json": {
       "model_id": "5d6ec019e7d042e594b63057a1928a91",
       "version_major": 2,
       "version_minor": 0
      },
      "text/plain": [
       "interactive(children=(Text(value='Średnia liczba kobiet i mężczyzn na zawodach', description='title'), Output(…"
      ]
     },
     "metadata": {},
     "output_type": "display_data"
    }
   ],
   "source": [
    "interactive(avg_sex_by_NOC_plot, title='Średnia liczba kobiet i mężczyzn na zawodach')"
   ]
  },
  {
   "cell_type": "markdown",
   "id": "5edf6791",
   "metadata": {},
   "source": [
    "# Wykres nr 3"
   ]
  },
  {
   "cell_type": "code",
   "execution_count": 59,
   "id": "4406c247",
   "metadata": {},
   "outputs": [
    {
     "data": {
      "text/html": [
       "<div>\n",
       "<style scoped>\n",
       "    .dataframe tbody tr th:only-of-type {\n",
       "        vertical-align: middle;\n",
       "    }\n",
       "\n",
       "    .dataframe tbody tr th {\n",
       "        vertical-align: top;\n",
       "    }\n",
       "\n",
       "    .dataframe thead th {\n",
       "        text-align: right;\n",
       "    }\n",
       "</style>\n",
       "<table border=\"1\" class=\"dataframe\">\n",
       "  <thead>\n",
       "    <tr style=\"text-align: right;\">\n",
       "      <th></th>\n",
       "      <th>AthletesCount</th>\n",
       "    </tr>\n",
       "    <tr>\n",
       "      <th>NOC</th>\n",
       "      <th></th>\n",
       "    </tr>\n",
       "  </thead>\n",
       "  <tbody>\n",
       "    <tr>\n",
       "      <th>USA</th>\n",
       "      <td>12852</td>\n",
       "    </tr>\n",
       "    <tr>\n",
       "      <th>GBR</th>\n",
       "      <td>8490</td>\n",
       "    </tr>\n",
       "    <tr>\n",
       "      <th>FRA</th>\n",
       "      <td>8276</td>\n",
       "    </tr>\n",
       "    <tr>\n",
       "      <th>ITA</th>\n",
       "      <td>7223</td>\n",
       "    </tr>\n",
       "    <tr>\n",
       "      <th>GER</th>\n",
       "      <td>6683</td>\n",
       "    </tr>\n",
       "  </tbody>\n",
       "</table>\n",
       "</div>"
      ],
      "text/plain": [
       "     AthletesCount\n",
       "NOC               \n",
       "USA          12852\n",
       "GBR           8490\n",
       "FRA           8276\n",
       "ITA           7223\n",
       "GER           6683"
      ]
     },
     "execution_count": 59,
     "metadata": {},
     "output_type": "execute_result"
    }
   ],
   "source": [
    "five_biggest_df = pd.DataFrame(athlete_df.groupby(['NOC', 'Games', 'Name']).size().groupby(['NOC']).count().nlargest(5), columns=['AthletesCount'])\n",
    "five_biggest_df"
   ]
  },
  {
   "cell_type": "code",
   "execution_count": 60,
   "id": "9bd60337",
   "metadata": {},
   "outputs": [],
   "source": [
    "def five_biggest_plot(color):\n",
    "    five_biggest_df.plot.barh(title='Top 5 komitetów, które wystawiły najwięcej zawodników', color=color)"
   ]
  },
  {
   "cell_type": "code",
   "execution_count": 61,
   "id": "f73d5f65",
   "metadata": {},
   "outputs": [],
   "source": [
    "colors = ['black', 'gray', 'red', 'orange', 'yellow', 'blue', 'green', 'pink', 'purple']"
   ]
  },
  {
   "cell_type": "code",
   "execution_count": 62,
   "id": "81f7e001",
   "metadata": {},
   "outputs": [
    {
     "data": {
      "application/vnd.jupyter.widget-view+json": {
       "model_id": "0ec1edac767f440dbd6ceed5eda55f34",
       "version_major": 2,
       "version_minor": 0
      },
      "text/plain": [
       "interactive(children=(Dropdown(description='color', options=('black', 'gray', 'red', 'orange', 'yellow', 'blue…"
      ]
     },
     "metadata": {},
     "output_type": "display_data"
    }
   ],
   "source": [
    "interactive(five_biggest_plot, color=colors)"
   ]
  }
 ],
 "metadata": {
  "kernelspec": {
   "display_name": "Mini",
   "language": "python",
   "name": "mini"
  },
  "language_info": {
   "codemirror_mode": {
    "name": "ipython",
    "version": 3
   },
   "file_extension": ".py",
   "mimetype": "text/x-python",
   "name": "python",
   "nbconvert_exporter": "python",
   "pygments_lexer": "ipython3",
   "version": "3.9.5"
  }
 },
 "nbformat": 4,
 "nbformat_minor": 5
}
